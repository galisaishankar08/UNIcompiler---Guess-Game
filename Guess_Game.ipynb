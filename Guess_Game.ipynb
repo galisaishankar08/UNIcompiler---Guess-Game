{
  "nbformat": 4,
  "nbformat_minor": 0,
  "metadata": {
    "colab": {
      "name": "Guess Game.ipynb",
      "provenance": [],
      "collapsed_sections": [],
      "authorship_tag": "ABX9TyMW2rQkqjh7NhXM1fTs4r0L",
      "include_colab_link": true
    },
    "kernelspec": {
      "name": "python3",
      "display_name": "Python 3"
    },
    "language_info": {
      "name": "python"
    }
  },
  "cells": [
    {
      "cell_type": "markdown",
      "metadata": {
        "id": "view-in-github",
        "colab_type": "text"
      },
      "source": [
        "<a href=\"https://colab.research.google.com/github/galisaishankar08/UNIcompiler---Guess-Game/blob/main/Guess_Game.ipynb\" target=\"_parent\"><img src=\"https://colab.research.google.com/assets/colab-badge.svg\" alt=\"Open In Colab\"/></a>"
      ]
    },
    {
      "cell_type": "code",
      "execution_count": null,
      "metadata": {
        "colab": {
          "base_uri": "https://localhost:8080/"
        },
        "id": "7_ETKljt2LtL",
        "outputId": "b5293e88-40fb-4450-a8f9-d1f09f82837c"
      },
      "outputs": [
        {
          "output_type": "stream",
          "name": "stdout",
          "text": [
            "Enter range : 100\n",
            "Enter number of chances : 10\n",
            "\n",
            "--------------Game Begins-----------------------\n",
            "\n",
            "Guess the number : 50\n",
            "Hint :  19 is a multiple of secret number\n",
            "Remaining chances :  9\n",
            "\n",
            "------------------------------------------------\n",
            "\n",
            "Guess the number : 76\n",
            "Hint :  19 is a multiple of secret number\n",
            "Remaining chances :  8\n",
            "\n",
            "------------------------------------------------\n",
            "\n",
            "Guess the number : 19\n",
            "Hint :  Think higher...\n",
            "Remaining chances :  7\n",
            "\n",
            "------------------------------------------------\n",
            "\n",
            "Guess the number : 57\n",
            "Hint :  Think higher...\n",
            "Remaining chances :  6\n",
            "\n",
            "------------------------------------------------\n",
            "\n",
            "Guess the number : 95\n",
            "Congratulations 🎉\n",
            "Score :  60.0\n",
            "\n",
            "----🥳🥳🥳🥳🥳🥳🥳🥳🥳🥳🥳🥳🥳🥳🥳🥳🥳----\n",
            "\n"
          ]
        }
      ],
      "source": [
        "import random\n",
        "\n",
        "n_range = int(input('Enter range : '))\n",
        "chances = int(input('Enter number of chances : '))\n",
        "\n",
        "print('\\n--------------Game Begins-----------------------\\n')\n",
        "\n",
        "\n",
        "def get_factor(number):\n",
        "    factors = []\n",
        "    for j in range(1, number + 1):\n",
        "        if number % j == 0:\n",
        "            factors.append(j)\n",
        "    factors.remove(number)\n",
        "    factors.remove(1)\n",
        "    return factors\n",
        "\n",
        "\n",
        "def game():\n",
        "    secret_number = random.randint(0, n_range)\n",
        "\n",
        "    for i in range(0, chances):\n",
        "        guessed_number = int(input('Guess the number : '))\n",
        "\n",
        "        if guessed_number == secret_number:\n",
        "            print('Congratulations 🎉')\n",
        "            print('Score : ', ((chances-i)/chances)*100)\n",
        "            print('\\n----🥳🥳🥳🥳🥳🥳🥳🥳🥳🥳🥳🥳🥳🥳🥳🥳🥳----\\n')\n",
        "            break\n",
        "        elif i+1 == chances:\n",
        "            print('Game Over ❌')\n",
        "            print('Secret Number : ', secret_number)\n",
        "            print('\\n----❌❌❌❌❌❌❌❌❌❌❌❌❌❌❌❌❌❌❌❌❌❌❌❌----\\n')\n",
        "        elif guessed_number <= secret_number:\n",
        "            factor = get_factor(secret_number)\n",
        "            hints = ['Think higher...', str(random.choice(factor))+' is a multiple of secret number']\n",
        "\n",
        "            print('Hint : ', random.choice(hints))\n",
        "            print('Remaining chances : ', chances-(i+1))\n",
        "            print('\\n------------------------------------------------\\n')\n",
        "        elif guessed_number >= secret_number:\n",
        "            factor = get_factor(secret_number)\n",
        "            hints = ['Think lower...', str(random.choice(factor))+' is a multiple of secret number']\n",
        "\n",
        "            print('Hint : ', random.choice(hints))\n",
        "            print('Remaining chances : ', chances - (i + 1))\n",
        "            print('\\n------------------------------------------------\\n')\n",
        "\n",
        "\n",
        "if __name__ == '__main__':\n",
        "    try:\n",
        "        game()\n",
        "    except Exception:\n",
        "        print('Entered wrong input')\n",
        "        print('Play again...')\n"
      ]
    }
  ]
}